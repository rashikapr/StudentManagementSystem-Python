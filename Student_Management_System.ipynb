{
  "nbformat": 4,
  "nbformat_minor": 0,
  "metadata": {
    "colab": {
      "provenance": [],
      "authorship_tag": "ABX9TyOqUfZT2YlOOIYFaa5eYBUO",
      "include_colab_link": true
    },
    "kernelspec": {
      "name": "python3",
      "display_name": "Python 3"
    },
    "language_info": {
      "name": "python"
    }
  },
  "cells": [
    {
      "cell_type": "markdown",
      "metadata": {
        "id": "view-in-github",
        "colab_type": "text"
      },
      "source": [
        "<a href=\"https://colab.research.google.com/github/rashikapr/StudentManagementSystem-Python/blob/main/Student_Management_System.ipynb\" target=\"_parent\"><img src=\"https://colab.research.google.com/assets/colab-badge.svg\" alt=\"Open In Colab\"/></a>"
      ]
    },
    {
      "cell_type": "code",
      "execution_count": 2,
      "metadata": {
        "id": "MR-BWKytSwIu"
      },
      "outputs": [],
      "source": [
        "class Student:\n",
        " def __init__(self, name, age, grade):\n",
        "  self.name = name\n",
        "  self.age = age\n",
        "  self.grade = grade\n",
        " def display_info(self):\n",
        "  return f\"Name: {self.name}, Age: {self.age}, Grade: {self.grade}\""
      ]
    },
    {
      "cell_type": "code",
      "source": [
        "students = []\n"
      ],
      "metadata": {
        "id": "8XGw3ABoUfxm"
      },
      "execution_count": 3,
      "outputs": []
    },
    {
      "cell_type": "code",
      "source": [
        "def menu():\n",
        " print(\"\\nStudent Management System\")\n",
        " print(\"1. Add Student\")\n",
        " print(\"2. View All Students\")\n",
        " print(\"3. Update Student\")\n",
        " print(\"4. Delete Student\")\n",
        " print(\"5. Exit\")\n",
        " try:\n",
        "  return int(input(\"Enter your choice: \"))\n",
        " except ValueError:\n",
        "  print(\"Invalid input! Please enter a number between 1 and 5.\")\n",
        "  return 0"
      ],
      "metadata": {
        "id": "QeJJ2y5gUmNz"
      },
      "execution_count": 4,
      "outputs": []
    },
    {
      "cell_type": "code",
      "source": [
        "def add_student():\n",
        " try:\n",
        "  name = input(\"Enter student name: \")\n",
        "  age = int(input(\"Enter student age: \"))\n",
        "  grade = input(\"Enter student grade: \")\n",
        "  students.append(Student(name, age, grade))\n",
        "  print(\"Student added successfully!\")\n",
        " except ValueError:\n",
        "  print(\"Invalid input! Age must be a number.\")"
      ],
      "metadata": {
        "id": "QAusY7uWUrC4"
      },
      "execution_count": 5,
      "outputs": []
    },
    {
      "cell_type": "code",
      "source": [
        "def view_students():\n",
        " if not students:\n",
        "  print(\"No student records available.\")\n",
        " else:\n",
        "  for i, student in enumerate(students, start=1):\n",
        "    print(f\"{i}. {student.display_info()}\")"
      ],
      "metadata": {
        "id": "uDbEGI_5U2Cv"
      },
      "execution_count": 6,
      "outputs": []
    },
    {
      "cell_type": "code",
      "source": [
        "def update_student():\n",
        " try:\n",
        "    view_students()\n",
        "    index = int(input(\"Enter the student number to update: \")) - 1\n",
        "    if 0 <= index < len(students):\n",
        "      students[index].name = input(\"Enter new name: \")\n",
        "      students[index].age = int(input(\"Enter new age: \"))\n",
        "      students[index].grade = input(\"Enter new grade: \")\n",
        "      print(\"Student updated successfully!\")\n",
        "    else:\n",
        "      print(\"Invalid student number!\")\n",
        " except ValueError:\n",
        "    print(\"Invalid input!\")"
      ],
      "metadata": {
        "id": "KPxyAXD0U619"
      },
      "execution_count": 7,
      "outputs": []
    },
    {
      "cell_type": "code",
      "source": [
        "def delete_student():\n",
        "  try:\n",
        "      view_students()\n",
        "      index = int(input(\"Enter the student number to delete: \")) - 1\n",
        "      if 0 <= index < len(students):\n",
        "        students.pop(index)\n",
        "        print(\"Student deleted successfully!\")\n",
        "      else:\n",
        "        print(\"Invalid student number!\")\n",
        "  except ValueError:\n",
        "    print(\"Invalid input!\")\n"
      ],
      "metadata": {
        "id": "OSCRTdHDVk4k"
      },
      "execution_count": 8,
      "outputs": []
    },
    {
      "cell_type": "code",
      "source": [
        "while True:\n",
        " choice = menu()\n",
        " if choice == 1:\n",
        "  add_student()\n",
        " elif choice == 2:\n",
        "  view_students()\n",
        " elif choice == 3:\n",
        "  update_student()\n",
        " elif choice == 4:\n",
        "  delete_student()\n",
        " elif choice == 5:\n",
        "  print(\"Exiting the program.\")\n",
        "  break\n",
        " else:\n",
        "  print(\"Invalid choice! Please try again.\")\n"
      ],
      "metadata": {
        "colab": {
          "base_uri": "https://localhost:8080/"
        },
        "id": "lxDqQgyHWCwt",
        "outputId": "91682fa8-d384-4a53-fbab-adc95036008a"
      },
      "execution_count": 9,
      "outputs": [
        {
          "output_type": "stream",
          "name": "stdout",
          "text": [
            "\n",
            "Student Management System\n",
            "1. Add Student\n",
            "2. View All Students\n",
            "3. Update Student\n",
            "4. Delete Student\n",
            "5. Exit\n",
            "Enter your choice: 1\n",
            "Enter student name: Moha\n",
            "Enter student age: 8\n",
            "Enter student grade: 4\n",
            "Student added successfully!\n",
            "\n",
            "Student Management System\n",
            "1. Add Student\n",
            "2. View All Students\n",
            "3. Update Student\n",
            "4. Delete Student\n",
            "5. Exit\n",
            "Enter your choice: 2\n",
            "1. Name: Moha, Age: 8, Grade: 4\n",
            "\n",
            "Student Management System\n",
            "1. Add Student\n",
            "2. View All Students\n",
            "3. Update Student\n",
            "4. Delete Student\n",
            "5. Exit\n",
            "Enter your choice: 1\n",
            "Enter student name: John\n",
            "Enter student age: 6\n",
            "Enter student grade: 2\n",
            "Student added successfully!\n",
            "\n",
            "Student Management System\n",
            "1. Add Student\n",
            "2. View All Students\n",
            "3. Update Student\n",
            "4. Delete Student\n",
            "5. Exit\n",
            "Enter your choice: 2\n",
            "1. Name: Moha, Age: 8, Grade: 4\n",
            "2. Name: John, Age: 6, Grade: 2\n",
            "\n",
            "Student Management System\n",
            "1. Add Student\n",
            "2. View All Students\n",
            "3. Update Student\n",
            "4. Delete Student\n",
            "5. Exit\n",
            "Enter your choice: 3\n",
            "1. Name: Moha, Age: 8, Grade: 4\n",
            "2. Name: John, Age: 6, Grade: 2\n",
            "Enter the student number to update: 1\n",
            "Enter new name: Max\n",
            "Enter new age: 7\n",
            "Enter new grade: 4\n",
            "Student updated successfully!\n",
            "\n",
            "Student Management System\n",
            "1. Add Student\n",
            "2. View All Students\n",
            "3. Update Student\n",
            "4. Delete Student\n",
            "5. Exit\n",
            "Enter your choice: 2\n",
            "1. Name: Max, Age: 7, Grade: 4\n",
            "2. Name: John, Age: 6, Grade: 2\n",
            "\n",
            "Student Management System\n",
            "1. Add Student\n",
            "2. View All Students\n",
            "3. Update Student\n",
            "4. Delete Student\n",
            "5. Exit\n",
            "Enter your choice: 4\n",
            "1. Name: Max, Age: 7, Grade: 4\n",
            "2. Name: John, Age: 6, Grade: 2\n",
            "Enter the student number to delete: 1\n",
            "Student deleted successfully!\n",
            "\n",
            "Student Management System\n",
            "1. Add Student\n",
            "2. View All Students\n",
            "3. Update Student\n",
            "4. Delete Student\n",
            "5. Exit\n",
            "Enter your choice: 2\n",
            "1. Name: John, Age: 6, Grade: 2\n",
            "\n",
            "Student Management System\n",
            "1. Add Student\n",
            "2. View All Students\n",
            "3. Update Student\n",
            "4. Delete Student\n",
            "5. Exit\n",
            "Enter your choice: 5\n",
            "Exiting the program.\n"
          ]
        }
      ]
    }
  ]
}